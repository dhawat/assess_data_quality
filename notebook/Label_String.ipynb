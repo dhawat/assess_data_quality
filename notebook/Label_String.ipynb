{
 "cells": [
  {
   "cell_type": "code",
   "execution_count": 2,
   "metadata": {},
   "outputs": [],
   "source": [
    "from difflib import SequenceMatcher\n",
    "import pandas as pd\n",
    "import numpy as np\n",
    "import matplotlib.pyplot as plt\n",
    "import numpy as np\n",
    "from sklearn.cluster import AffinityPropagation\n",
    "import distance\n",
    "import random\n",
    "from itertools import repeat "
   ]
  },
  {
   "cell_type": "code",
   "execution_count": 3,
   "metadata": {},
   "outputs": [
    {
     "name": "stderr",
     "output_type": "stream",
     "text": [
      "/Users/abaach/opt/anaconda3/lib/python3.8/site-packages/IPython/core/interactiveshell.py:3146: DtypeWarning: Columns (14,15,16,23,24,25,26,28,39,40,41,42,43,44,45,46,47,48,49,50,51,52,53) have mixed types.Specify dtype option on import or set low_memory=False.\n",
      "  has_raised = await self.run_ast_nodes(code_ast.body, cell_name,\n"
     ]
    }
   ],
   "source": [
    "Data_file = \"~/Downloads/data_avec_erreurs_wasserstein.csv\"\n",
    "df = pd.read_csv(Data_file)"
   ]
  },
  {
   "cell_type": "code",
   "execution_count": 11,
   "metadata": {},
   "outputs": [],
   "source": [
    "random.shuffle(['AlFbama', 'AlaTama', 'Alabama', 'Alaska', 'ArizoJa', 'Arizona',\n",
    "       'Arkansas', 'California', 'Colorado', 'Connecticut', 'Coworado',\n",
    "       'Daryland', 'Delaware', 'Dzlaware', 'Eexas', 'FlTrida', 'Flhrida',\n",
    "       'Flofida', 'Florica', 'Florida', 'Florima', 'Flqrida', 'Fsorida',\n",
    "       'Fuorida', 'Georgia', 'Hawaii', 'Idaho', 'IllinUis', 'IllinoNs',\n",
    "       'IllinoiS', 'Illinois', 'Indiana', 'Iowa', 'Kansas', 'Kentucky',\n",
    "       'Louisiana', 'MPssissippi', 'Maine', 'Maiqe', 'Maryland',\n",
    "       'Massachusetts', 'Michigan', 'Minnesota', 'MissVssippi',\n",
    "       'MississiRpi', 'MississipQi', 'Mississippi', 'Mississispi',\n",
    "       'Missouri', 'Montana', 'Nebraska', 'Nevada', 'New Hampshire',\n",
    "       'New Jersey', 'New Mexico', 'New York', 'NewFYork',\n",
    "       'Nohth Carolina', 'Norph Carolina', 'North CaroliSa',\n",
    "       'North Carolina', 'North Dakota', 'OhPo', 'Ohio', 'Ohro',\n",
    "       'Oklahoma', 'Oregon', 'Pennsylvania', 'Puerto Rico',\n",
    "       'Rhode Island', 'Sjuth Carolina', 'South Carolcna',\n",
    "       'South Carolina', 'South Dakota', 'TXxas', 'Tennessee',\n",
    "       'Tepnessee', 'TexPs', 'TexaD', 'Texas', 'Tvxas', 'Unspecified',\n",
    "       'Unspetified', 'Utah', 'Vermont', 'VirgRnia', 'VirgiRia',\n",
    "       'Virginia', 'Virqinia', 'WashingtoH', 'Washington',\n",
    "       'Washington DC', 'West VArginia', 'West Virginia', 'WisKonsin',\n",
    "       'Wisconsin', 'Wyoming', 'Xexas', 'Zexas', 'ilorida', 'mevada',\n",
    "       'qaine', 'vlorida'])\n"
   ]
  },
  {
   "cell_type": "code",
   "execution_count": 37,
   "metadata": {},
   "outputs": [],
   "source": [
    "df_State = df[\"state\"]\n",
    "words = np.asarray(random.sample(list(df[\"state\"]), 10000))\n",
    "df_State = ['AlFbama', 'AlaTama', 'Alabama', 'Alaska', 'ArizoJa', 'Arizona',\n",
    "       'Arkansas', 'California', 'Colorado', 'Connecticut', 'Coworado',\n",
    "       'Daryland', 'Delaware', 'Dzlaware', 'Eexas', 'FlTrida', 'Flhrida',\n",
    "       'Flofida', 'Florica', 'Florida', 'Florima', 'Flqrida', 'Fsorida',\n",
    "       'Fuorida', 'Georgia', 'Hawaii', 'Idaho', 'IllinUis', 'IllinoNs',\n",
    "       'IllinoiS', 'Illinois', 'Indiana', 'Iowa', 'Kansas', 'Kentucky',\n",
    "       'Louisiana', 'MPssissippi', 'Maine', 'Maiqe', 'Maryland',\n",
    "       'Massachusetts', 'Michigan', 'Minnesota', 'MissVssippi',\n",
    "       'MississiRpi', 'MississipQi', 'Mississippi', 'Mississispi',\n",
    "       'Missouri', 'Montana', 'Nebraska', 'Nevada', 'New Hampshire',\n",
    "       'New Jersey', 'New Mexico', 'New York', 'NewFYork',\n",
    "       'Nohth Carolina', 'Norph Carolina', 'North CaroliSa',\n",
    "       'North Carolina', 'North Dakota', 'OhPo', 'Ohio', 'Ohro',\n",
    "       'Oklahoma', 'Oregon', 'Pennsylvania', 'Puerto Rico',\n",
    "       'Rhode Island', 'Sjuth Carolina', 'South Carolcna',\n",
    "       'South Carolina', 'South Dakota', 'TXxas', 'Tennessee',\n",
    "       'Tepnessee', 'TexPs', 'TexaD', 'Texas', 'Tvxas', 'Unspecified',\n",
    "       'Unspetified', 'Utah', 'Vermont', 'VirgRnia', 'VirgiRia',\n",
    "       'Virginia', 'Virqinia', 'WashingtoH', 'Washington',\n",
    "       'Washington DC', 'West VArginia', 'West Virginia', 'WisKonsin',\n",
    "       'Wisconsin', 'Wyoming', 'Xexas', 'Zexas', 'ilorida', 'mevada',\n",
    "       'qaine', 'vlorida']\n",
    "random.shuffle(df_State)\n",
    "List_state = [x for item in df_State for x in repeat(item, 3)]\n",
    "words = np.asarray(List_state) #So that indexing with a list will work\n",
    "lev_similarity = np.array([[distance.levenshtein(w1,w2) for w1 in words] for w2 in words])"
   ]
  },
  {
   "cell_type": "code",
   "execution_count": 28,
   "metadata": {},
   "outputs": [
    {
     "name": "stdout",
     "output_type": "stream",
     "text": [
      "Next cluster \n",
      " ArizoJa, Arizona, California, Colorado, Coworado, Daryland, FlTrida, Flhrida, Flofida, Florica, Florida, Florima, Flqrida, Fsorida, Fuorida, Georgia, IllinoiS, Indiana, Iowa, Louisiana, Massachusetts, New Mexico, New York, NewFYork, Nohth Carolina, Norph Carolina, North CaroliSa, North Carolina, North Dakota, OhPo, Ohio, Ohro, Pennsylvania, Puerto Rico, Sjuth Carolina, South Carolcna, South Carolina, Vermont, VirgRnia, VirgiRia, Virginia, Virqinia, Wyoming, ilorida, vlorida\n",
      "Next cluster \n",
      " Alaska, Arkansas, Fsorida, Hawaii, Idaho, IllinUis, IllinoNs, IllinoiS, Illinois, Iowa, Kansas, MPssissippi, Maine, Maiqe, Massachusetts, MissVssippi, MississiRpi, MississipQi, Mississippi, Mississispi, Missouri, New Hampshire, NewFYork, Ohio, Pennsylvania, South Carolcna, Tennessee, Tepnessee, TexPs, TexaD, Texas, Unspecified, Unspetified, Vermont, WashingtoH, WisKonsin, Wisconsin, Zexas, qaine\n",
      "Next cluster \n",
      " ArizoJa, California, Connecticut, Daryland, Flhrida, Florica, Fsorida, Fuorida, Indiana, Maryland, Michigan, Minnesota, Montana, New Hampshire, North Dakota, Oregon, South Dakota, WashingtoH, Washington, Washington DC\n",
      "Next cluster \n",
      " Idaho, West VArginia, West Virginia\n",
      "Next cluster \n",
      " AlFbama, AlaTama, Alabama, Alaska, Delaware, Dzlaware, Eexas, Nebraska, Nevada, New Hampshire, New Jersey, New Mexico, Oklahoma, Rhode Island, TXxas, Texas, Washington DC, Xexas, Zexas, mevada\n",
      "Next cluster \n",
      " Alaska, Connecticut, Eexas, Idaho, Iowa, Kentucky, Minnesota, Norph Carolina, TXxas, TexPs, TexaD, Tvxas, Utah, Xexas, Zexas\n"
     ]
    },
    {
     "name": "stderr",
     "output_type": "stream",
     "text": [
      "/Users/abaach/opt/anaconda3/lib/python3.8/site-packages/sklearn/cluster/_affinity_propagation.py:146: FutureWarning: 'random_state' has been introduced in 0.23. It will be set to None starting from 0.25 which means that results will differ at every function call. Set 'random_state' to None to silence this warning, or to 0 to keep the behavior of versions <0.23.\n",
      "  warnings.warn((\"'random_state' has been introduced in 0.23. \"\n"
     ]
    }
   ],
   "source": [
    "affprop = AffinityPropagation(affinity=\"precomputed\", damping=0.6)\n",
    "affprop.fit(lev_similarity)\n",
    "for cluster_id in np.unique(affprop.labels_):\n",
    "    exemplar = words[affprop.cluster_centers_indices_[cluster_id]]\n",
    "    cluster = np.unique(words[np.nonzero(affprop.labels_==cluster_id)])\n",
    "    cluster_str = \", \".join(cluster)\n",
    "    print(\"Next cluster \\n\", cluster_str)    \n",
    "#     print(\" - *%s:* %s\" % (exemplar, cluster_str))"
   ]
  },
  {
   "cell_type": "code",
   "execution_count": null,
   "metadata": {},
   "outputs": [],
   "source": [
    "df_State = df[\"state\"]\n",
    "words = np.asarray(random.sample(list(df[\"state\"]), 10000))\n",
    "df_State = ['AlFbama', 'AlaTama', 'Alabama', 'Alaska', 'ArizoJa', 'Arizona',\n",
    "       'Arkansas', 'California', 'Colorado', 'Connecticut', 'Coworado',\n",
    "       'Daryland', 'Delaware', 'Dzlaware', 'Eexas', 'FlTrida', 'Flhrida',\n",
    "       'Flofida', 'Florica', 'Florida', 'Florima', 'Flqrida', 'Fsorida',\n",
    "       'Fuorida', 'Georgia', 'Hawaii', 'Idaho', 'IllinUis', 'IllinoNs',\n",
    "       'IllinoiS', 'Illinois', 'Indiana', 'Iowa', 'Kansas', 'Kentucky',\n",
    "       'Louisiana', 'MPssissippi', 'Maine', 'Maiqe', 'Maryland',\n",
    "       'Massachusetts', 'Michigan', 'Minnesota', 'MissVssippi',\n",
    "       'MississiRpi', 'MississipQi', 'Mississippi', 'Mississispi',\n",
    "       'Missouri', 'Montana', 'Nebraska', 'Nevada', 'New Hampshire',\n",
    "       'New Jersey', 'New Mexico', 'New York', 'NewFYork',\n",
    "       'Nohth Carolina', 'Norph Carolina', 'North CaroliSa',\n",
    "       'North Carolina', 'North Dakota', 'OhPo', 'Ohio', 'Ohro',\n",
    "       'Oklahoma', 'Oregon', 'Pennsylvania', 'Puerto Rico',\n",
    "       'Rhode Island', 'Sjuth Carolina', 'South Carolcna',\n",
    "       'South Carolina', 'South Dakota', 'TXxas', 'Tennessee',\n",
    "       'Tepnessee', 'TexPs', 'TexaD', 'Texas', 'Tvxas', 'Unspecified',\n",
    "       'Unspetified', 'Utah', 'Vermont', 'VirgRnia', 'VirgiRia',\n",
    "       'Virginia', 'Virqinia', 'WashingtoH', 'Washington',\n",
    "       'Washington DC', 'West VArginia', 'West Virginia', 'WisKonsin',\n",
    "       'Wisconsin', 'Wyoming', 'Xexas', 'Zexas', 'ilorida', 'mevada',\n",
    "       'qaine', 'vlorida']\n",
    "random.shuffle(df_State)\n",
    "List_state = [x for item in df_State for x in repeat(item, 3)]\n",
    "words = np.asarray(List_state) #So that indexing with a list will work\n",
    "lev_similarity = np.array([[SequenceMatcher(None, w1, w2).ratio() for w1 in words] for w2 in words])"
   ]
  },
  {
   "cell_type": "code",
   "execution_count": 36,
   "metadata": {},
   "outputs": [
    {
     "name": "stdout",
     "output_type": "stream",
     "text": [
      "Next cluster \n",
      " Maine, Maiqe, qaine\n",
      "Next cluster \n",
      " Massachusetts\n",
      "Next cluster \n",
      " Missouri\n",
      "Next cluster \n",
      " MPssissippi, MissVssippi, MississiRpi, MississipQi, Mississippi, Mississispi\n",
      "Next cluster \n",
      " Montana\n",
      "Next cluster \n",
      " WashingtoH, Washington, Washington DC\n",
      "Next cluster \n",
      " Hawaii\n",
      "Next cluster \n",
      " Oregon, Vermont\n",
      "Next cluster \n",
      " Rhode Island\n",
      "Next cluster \n",
      " West VArginia, West Virginia\n",
      "Next cluster \n",
      " IllinUis, IllinoNs, IllinoiS, Illinois\n",
      "Next cluster \n",
      " Oklahoma\n",
      "Next cluster \n",
      " Michigan\n",
      "Next cluster \n",
      " Kansas\n",
      "Next cluster \n",
      " Iowa\n",
      "Next cluster \n",
      " North Dakota, South Dakota\n",
      "Next cluster \n",
      " Kentucky\n",
      "Next cluster \n",
      " Pennsylvania\n",
      "Next cluster \n",
      " New Mexico\n",
      "Next cluster \n",
      " New Hampshire, New Jersey, New York, NewFYork\n",
      "Next cluster \n",
      " Puerto Rico\n",
      "Next cluster \n",
      " California\n",
      "Next cluster \n",
      " AlFbama, AlaTama, Alabama\n",
      "Next cluster \n",
      " Connecticut\n",
      "Next cluster \n",
      " WisKonsin, Wisconsin, Wyoming\n",
      "Next cluster \n",
      " Nevada, mevada\n",
      "Next cluster \n",
      " Idaho\n",
      "Next cluster \n",
      " Arkansas\n",
      "Next cluster \n",
      " FlTrida, Flhrida, Flofida, Florica, Florida, Florima, Flqrida, Fsorida, Fuorida, ilorida, vlorida\n",
      "Next cluster \n",
      " ArizoJa, Arizona\n",
      "Next cluster \n",
      " OhPo, Ohio, Ohro\n",
      "Next cluster \n",
      " Minnesota\n",
      "Next cluster \n",
      " Colorado, Coworado\n",
      "Next cluster \n",
      " Alaska\n",
      "Next cluster \n",
      " Delaware, Dzlaware\n",
      "Next cluster \n",
      " VirgRnia, VirgiRia, Virginia, Virqinia\n",
      "Next cluster \n",
      " Daryland, Maryland\n",
      "Next cluster \n",
      " Nebraska\n",
      "Next cluster \n",
      " Unspecified, Unspetified\n",
      "Next cluster \n",
      " Louisiana\n",
      "Next cluster \n",
      " Nohth Carolina, Norph Carolina, North CaroliSa, North Carolina\n",
      "Next cluster \n",
      " Indiana\n",
      "Next cluster \n",
      " Sjuth Carolina, South Carolcna, South Carolina\n",
      "Next cluster \n",
      " Eexas, TXxas, TexPs, TexaD, Texas, Tvxas, Xexas, Zexas\n",
      "Next cluster \n",
      " Tennessee, Tepnessee\n",
      "Next cluster \n",
      " Utah\n",
      "Next cluster \n",
      " Georgia\n"
     ]
    },
    {
     "name": "stderr",
     "output_type": "stream",
     "text": [
      "/Users/abaach/opt/anaconda3/lib/python3.8/site-packages/sklearn/cluster/_affinity_propagation.py:146: FutureWarning: 'random_state' has been introduced in 0.23. It will be set to None starting from 0.25 which means that results will differ at every function call. Set 'random_state' to None to silence this warning, or to 0 to keep the behavior of versions <0.23.\n",
      "  warnings.warn((\"'random_state' has been introduced in 0.23. \"\n"
     ]
    }
   ],
   "source": [
    "affprop = AffinityPropagation(affinity=\"precomputed\", damping=0.5)\n",
    "affprop.fit(lev_similarity)\n",
    "for cluster_id in np.unique(affprop.labels_):\n",
    "    exemplar = words[affprop.cluster_centers_indices_[cluster_id]]\n",
    "    cluster = np.unique(words[np.nonzero(affprop.labels_==cluster_id)])\n",
    "    cluster_str = \", \".join(cluster)\n",
    "    print(\"Next cluster \\n\", cluster_str)    \n",
    "#     print(\" - *%s:* %s\" % (exemplar, cluster_str))"
   ]
  },
  {
   "cell_type": "code",
   "execution_count": null,
   "metadata": {},
   "outputs": [],
   "source": []
  }
 ],
 "metadata": {
  "kernelspec": {
   "display_name": "Python 3",
   "language": "python",
   "name": "python3"
  },
  "language_info": {
   "codemirror_mode": {
    "name": "ipython",
    "version": 3
   },
   "file_extension": ".py",
   "mimetype": "text/x-python",
   "name": "python",
   "nbconvert_exporter": "python",
   "pygments_lexer": "ipython3",
   "version": "3.8.5"
  }
 },
 "nbformat": 4,
 "nbformat_minor": 4
}
