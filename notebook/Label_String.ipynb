{
 "cells": [
  {
   "cell_type": "code",
   "execution_count": 58,
   "metadata": {
    "scrolled": true
   },
   "outputs": [
    {
     "data": {
      "text/html": [
       "<style>.container { width:100% !important; }</style>"
      ],
      "text/plain": [
       "<IPython.core.display.HTML object>"
      ]
     },
     "metadata": {},
     "output_type": "display_data"
    },
    {
     "name": "stdout",
     "output_type": "stream",
     "text": [
      "The autotime extension is already loaded. To reload it, use:\n",
      "  %reload_ext autotime\n",
      "time: 2.3 ms (started: 2021-08-31 14:34:08 +02:00)\n"
     ]
    }
   ],
   "source": [
    "from IPython.core.display import display, HTML\n",
    "display(HTML(\"<style>.container { width:100% !important; }</style>\"))\n",
    "%load_ext autotime\n",
    "import os\n",
    "import sys\n",
    "sys.path.insert(0, os.path.abspath('../src/'))\n",
    "from difflib import SequenceMatcher\n",
    "import pandas as pd\n",
    "import numpy as np\n",
    "import matplotlib.pyplot as plt\n",
    "import numpy as np\n",
    "from sklearn.cluster import AffinityPropagation\n",
    "import distance\n",
    "import random\n",
    "from itertools import repeat \n",
    "from sklearn.cluster import DBSCAN\n",
    "from numpy import nan\n",
    "\n",
    "import utils\n",
    "\n"
   ]
  },
  {
   "cell_type": "code",
   "execution_count": 16,
   "metadata": {},
   "outputs": [
    {
     "name": "stdout",
     "output_type": "stream",
     "text": [
      "time: 427 ms (started: 2021-08-31 14:23:36 +02:00)\n"
     ]
    },
    {
     "name": "stderr",
     "output_type": "stream",
     "text": [
      "/Users/abaach/opt/anaconda3/lib/python3.8/site-packages/IPython/core/interactiveshell.py:3146: DtypeWarning: Columns (14,15,16,23,24,25,26,28,39,40,41,42,43,44,45,46,47,48,49,50,51,52,53) have mixed types.Specify dtype option on import or set low_memory=False.\n",
      "  has_raised = await self.run_ast_nodes(code_ast.body, cell_name,\n"
     ]
    }
   ],
   "source": [
    "Data_file = \"~/Downloads/data_avec_erreurs_wasserstein.csv\"\n",
    "df = pd.read_csv(Data_file)"
   ]
  },
  {
   "cell_type": "markdown",
   "metadata": {},
   "source": [
    "# AffinityPropagation: \n",
    "\n",
    "Perform Affinity Propagation Clustering of data.\n",
    "\n",
    "dampingfloat, default=0.5\n",
    "\n",
    "Damping factor (between 0.5 and 1)  is the extent to which the current value \n",
    "is maintained relative to incoming values (weighted 1 - damping). \n",
    "This in order to avoid numerical oscillations when updating these values (messages)\n",
    "\n",
    "Affinity is the distance that u need to use. "
   ]
  },
  {
   "cell_type": "code",
   "execution_count": 64,
   "metadata": {},
   "outputs": [
    {
     "ename": "AttributeError",
     "evalue": "'numpy.ndarray' object has no attribute 'isnull'",
     "output_type": "error",
     "traceback": [
      "\u001b[0;31m---------------------------------------------------------------------------\u001b[0m",
      "\u001b[0;31mAttributeError\u001b[0m                            Traceback (most recent call last)",
      "\u001b[0;32m<ipython-input-64-2a96566715e5>\u001b[0m in \u001b[0;36m<module>\u001b[0;34m\u001b[0m\n\u001b[1;32m      1\u001b[0m \u001b[0mdf_State\u001b[0m \u001b[0;34m=\u001b[0m \u001b[0mnp\u001b[0m\u001b[0;34m.\u001b[0m\u001b[0masarray\u001b[0m\u001b[0;34m(\u001b[0m\u001b[0mdf\u001b[0m\u001b[0;34m[\u001b[0m\u001b[0;34m\"UsageBand\"\u001b[0m\u001b[0;34m]\u001b[0m\u001b[0;34m)\u001b[0m\u001b[0;34m\u001b[0m\u001b[0;34m\u001b[0m\u001b[0m\n\u001b[0;32m----> 2\u001b[0;31m \u001b[0mdf_State\u001b[0m\u001b[0;34m.\u001b[0m\u001b[0misnull\u001b[0m\u001b[0;34m(\u001b[0m\u001b[0;34m)\u001b[0m\u001b[0;34m\u001b[0m\u001b[0;34m\u001b[0m\u001b[0m\n\u001b[0m",
      "\u001b[0;31mAttributeError\u001b[0m: 'numpy.ndarray' object has no attribute 'isnull'"
     ]
    },
    {
     "name": "stdout",
     "output_type": "stream",
     "text": [
      "time: 6 ms (started: 2021-08-31 14:34:55 +02:00)\n"
     ]
    }
   ],
   "source": [
    "df_State = np.asarray(df[\"UsageBand\"])\n"
   ]
  },
  {
   "cell_type": "markdown",
   "metadata": {},
   "source": [
    "# do not errase"
   ]
  },
  {
   "cell_type": "code",
   "execution_count": 65,
   "metadata": {},
   "outputs": [
    {
     "data": {
      "text/plain": [
       "0           Low\n",
       "1           Low\n",
       "2          High\n",
       "3          High\n",
       "4        Medium\n",
       "          ...  \n",
       "99770    Medium\n",
       "99779      High\n",
       "99791    Medium\n",
       "99919    Medium\n",
       "99964    Medium\n",
       "Name: UsageBand, Length: 23383, dtype: object"
      ]
     },
     "execution_count": 65,
     "metadata": {},
     "output_type": "execute_result"
    },
    {
     "name": "stdout",
     "output_type": "stream",
     "text": [
      "time: 7.05 ms (started: 2021-08-31 14:36:28 +02:00)\n"
     ]
    }
   ],
   "source": [
    "df[\"UsageBand\"][df[\"UsageBand\"].notna()]\n"
   ]
  },
  {
   "cell_type": "markdown",
   "metadata": {},
   "source": [
    "# type(np.asarray(df[\"UsageBand\"])[-1])"
   ]
  },
  {
   "cell_type": "code",
   "execution_count": 73,
   "metadata": {},
   "outputs": [
    {
     "name": "stdout",
     "output_type": "stream",
     "text": [
      "time: 592 µs (started: 2021-08-31 14:41:56 +02:00)\n"
     ]
    }
   ],
   "source": [
    "def uncorrect_grammar(df_names, cluster):\n",
    "    words = np.asarray(df_names)\n",
    "    unique_words, unique_counts = np.unique(df_names, return_counts = True)\n",
    "    Q_1 = round(np.percentile(unique_counts, 5))\n",
    "    Low_risk_words = unique_words[np.where(unique_counts > Q_1)[0]]\n",
    "    index_In_words = []\n",
    "    for w in cluster:\n",
    "        if not (w in list(Low_risk_words)):\n",
    "            index_In_words = index_In_words + np.ndarray.tolist(np.where(words == w)[0])\n",
    "    return index_In_words"
   ]
  },
  {
   "cell_type": "code",
   "execution_count": 85,
   "metadata": {},
   "outputs": [
    {
     "name": "stdout",
     "output_type": "stream",
     "text": [
      "['HIGH' 'High' 'high']\n",
      "['LOW' 'Low' 'low']\n",
      "['MEDIUM' 'Medium' 'medium']\n",
      "time: 57.2 ms (started: 2021-08-31 14:52:18 +02:00)\n"
     ]
    },
    {
     "name": "stderr",
     "output_type": "stream",
     "text": [
      "/Users/abaach/opt/anaconda3/lib/python3.8/site-packages/sklearn/cluster/_affinity_propagation.py:146: FutureWarning: 'random_state' has been introduced in 0.23. It will be set to None starting from 0.25 which means that results will differ at every function call. Set 'random_state' to None to silence this warning, or to 0 to keep the behavior of versions <0.23.\n",
      "  warnings.warn((\"'random_state' has been introduced in 0.23. \"\n"
     ]
    }
   ],
   "source": [
    "df_State = df[\"UsageBand\"][df[\"UsageBand\"].notna()]\n",
    "df_State_unique = np.unique(df_State)\n",
    "words = np.asarray(df_State_unique) #So that indexing with a list will work\n",
    "lev_similarity = np.array([[SequenceMatcher(None, w1, w2).ratio() for w1 in words] for w2 in words])\n",
    "\n",
    "affprop = AffinityPropagation(affinity = \"precomputed\", damping=0.5)\n",
    "affprop.fit(lev_similarity)\n",
    "list_uncorrect = []\n",
    "if len(np.unique(affprop.labels_)) == 1:\n",
    "    list_uncorrect = []\n",
    "else:\n",
    "    for cluster_id in np.unique(affprop.labels_):\n",
    "        cluster = np.unique(words[np.nonzero(affprop.labels_ == cluster_id)])\n",
    "        list_uncorrect = list_uncorrect + uncorrect_grammar(df_State, cluster)\n",
    "        print(cluster)\n"
   ]
  },
  {
   "cell_type": "code",
   "execution_count": 86,
   "metadata": {},
   "outputs": [
    {
     "data": {
      "text/plain": [
       "2903       High\n",
       "4782        Low\n",
       "18318    Medium\n",
       "19534    Medium\n",
       "Name: UsageBand, dtype: object"
      ]
     },
     "execution_count": 86,
     "metadata": {},
     "output_type": "execute_result"
    },
    {
     "name": "stdout",
     "output_type": "stream",
     "text": [
      "time: 3.38 ms (started: 2021-08-31 14:52:20 +02:00)\n"
     ]
    }
   ],
   "source": [
    " df_State[list_uncorrect]"
   ]
  },
  {
   "cell_type": "code",
   "execution_count": null,
   "metadata": {},
   "outputs": [],
   "source": []
  }
 ],
 "metadata": {
  "kernelspec": {
   "display_name": "Python 3",
   "language": "python",
   "name": "python3"
  },
  "language_info": {
   "codemirror_mode": {
    "name": "ipython",
    "version": 3
   },
   "file_extension": ".py",
   "mimetype": "text/x-python",
   "name": "python",
   "nbconvert_exporter": "python",
   "pygments_lexer": "ipython3",
   "version": "3.8.5"
  }
 },
 "nbformat": 4,
 "nbformat_minor": 4
}
