{
 "cells": [
  {
   "cell_type": "code",
   "execution_count": 6,
   "metadata": {},
   "outputs": [
    {
     "data": {
      "text/html": [
       "<style>.container { width:100% !important; }</style>"
      ],
      "text/plain": [
       "<IPython.core.display.HTML object>"
      ]
     },
     "metadata": {},
     "output_type": "display_data"
    },
    {
     "name": "stdout",
     "output_type": "stream",
     "text": [
      "The autotime extension is already loaded. To reload it, use:\n",
      "  %reload_ext autotime\n",
      "time: 4.15 ms (started: 2021-09-02 10:15:48 +02:00)\n"
     ]
    }
   ],
   "source": [
    "from IPython.core.display import display, HTML\n",
    "display(HTML(\"<style>.container { width:100% !important; }</style>\"))\n",
    "%load_ext autotime\n",
    "import os\n",
    "import sys\n",
    "sys.path.insert(0, os.path.abspath('../src/'))\n",
    "import utils\n",
    "import improve_data_quality\n",
    "import pandas as pd\n",
    "import numpy as np\n",
    "import matplotlib.pyplot as plt\n",
    "import typo\n",
    "pd.set_option(\"display.max_rows\", 10, \"display.max_columns\", None) #show 10 rows and 5 columns"
   ]
  },
  {
   "cell_type": "code",
   "execution_count": 7,
   "metadata": {},
   "outputs": [
    {
     "name": "stdout",
     "output_type": "stream",
     "text": [
      "time: 476 ms (started: 2021-09-02 10:15:49 +02:00)\n"
     ]
    }
   ],
   "source": [
    "train_data_path = \"../data/data.csv\"\n",
    "test_data_path = \"../data/test.csv\"\n",
    "df = utils._to_DataFrame(data_file)\n",
    "#df_test = utils._to_DataFrame(test_data)\n",
    "#meta_data = utils.get_metadata(df)\n"
   ]
  },
  {
   "cell_type": "code",
   "execution_count": null,
   "metadata": {},
   "outputs": [],
   "source": []
  },
  {
   "cell_type": "code",
   "execution_count": 8,
   "metadata": {},
   "outputs": [
    {
     "name": "stdout",
     "output_type": "stream",
     "text": [
      "time: 440 ms (started: 2021-09-02 10:15:50 +02:00)\n"
     ]
    }
   ],
   "source": [
    "from improve_data_quality import Data \n",
    "data_train = Data(train_data_path)\n",
    "data_test = Data(test_data_path)\n"
   ]
  },
  {
   "cell_type": "code",
   "execution_count": 25,
   "metadata": {},
   "outputs": [
    {
     "data": {
      "text/html": [
       "<div>\n",
       "<style scoped>\n",
       "    .dataframe tbody tr th:only-of-type {\n",
       "        vertical-align: middle;\n",
       "    }\n",
       "\n",
       "    .dataframe tbody tr th {\n",
       "        vertical-align: top;\n",
       "    }\n",
       "\n",
       "    .dataframe thead th {\n",
       "        text-align: right;\n",
       "    }\n",
       "</style>\n",
       "<table border=\"1\" class=\"dataframe\">\n",
       "  <thead>\n",
       "    <tr style=\"text-align: right;\">\n",
       "      <th></th>\n",
       "      <th>MARQUE</th>\n",
       "    </tr>\n",
       "  </thead>\n",
       "  <tbody>\n",
       "    <tr>\n",
       "      <th>0</th>\n",
       "      <td>MERCEDES-B</td>\n",
       "    </tr>\n",
       "    <tr>\n",
       "      <th>1</th>\n",
       "      <td>VAN HOOL</td>\n",
       "    </tr>\n",
       "    <tr>\n",
       "      <th>2</th>\n",
       "      <td>MERCEDES-B</td>\n",
       "    </tr>\n",
       "    <tr>\n",
       "      <th>3</th>\n",
       "      <td>MERCEDES-B</td>\n",
       "    </tr>\n",
       "    <tr>\n",
       "      <th>4</th>\n",
       "      <td>VAN HOOL</td>\n",
       "    </tr>\n",
       "    <tr>\n",
       "      <th>...</th>\n",
       "      <td>...</td>\n",
       "    </tr>\n",
       "    <tr>\n",
       "      <th>9941</th>\n",
       "      <td>CITROEN</td>\n",
       "    </tr>\n",
       "    <tr>\n",
       "      <th>9942</th>\n",
       "      <td>RENAULT</td>\n",
       "    </tr>\n",
       "    <tr>\n",
       "      <th>9943</th>\n",
       "      <td>BMW</td>\n",
       "    </tr>\n",
       "    <tr>\n",
       "      <th>9944</th>\n",
       "      <td>VOLKSWAGEN</td>\n",
       "    </tr>\n",
       "    <tr>\n",
       "      <th>9945</th>\n",
       "      <td>VOLKSWAGEN</td>\n",
       "    </tr>\n",
       "  </tbody>\n",
       "</table>\n",
       "<p>9946 rows × 1 columns</p>\n",
       "</div>"
      ],
      "text/plain": [
       "          MARQUE\n",
       "0     MERCEDES-B\n",
       "1       VAN HOOL\n",
       "2     MERCEDES-B\n",
       "3     MERCEDES-B\n",
       "4       VAN HOOL\n",
       "...          ...\n",
       "9941     CITROEN\n",
       "9942     RENAULT\n",
       "9943         BMW\n",
       "9944  VOLKSWAGEN\n",
       "9945  VOLKSWAGEN\n",
       "\n",
       "[9946 rows x 1 columns]"
      ]
     },
     "execution_count": 25,
     "metadata": {},
     "output_type": "execute_result"
    },
    {
     "name": "stdout",
     "output_type": "stream",
     "text": [
      "time: 7.72 ms (started: 2021-09-02 10:35:44 +02:00)\n"
     ]
    }
   ],
   "source": [
    "df_train = data_train.data\n",
    "df_test = data_test.data\n",
    "df_test"
   ]
  },
  {
   "cell_type": "code",
   "execution_count": 20,
   "metadata": {},
   "outputs": [
    {
     "name": "stdout",
     "output_type": "stream",
     "text": [
      "time: 451 µs (started: 2021-09-02 10:32:33 +02:00)\n"
     ]
    }
   ],
   "source": [
    "col_name=\"MARQUE\""
   ]
  },
  {
   "cell_type": "code",
   "execution_count": 15,
   "metadata": {},
   "outputs": [
    {
     "data": {
      "text/plain": [
       "MARQUE\n",
       "ABARTH        5\n",
       "ABG           1\n",
       "ACESS         1\n",
       "ACKERMANN     1\n",
       "ACKERMANN-    1\n",
       "             ..\n",
       "ZETTELMEYE    4\n",
       "ZIEBUHR       1\n",
       "fendt         1\n",
       "rosengart     1\n",
       "salmson       1\n",
       "Length: 352, dtype: int64"
      ]
     },
     "execution_count": 15,
     "metadata": {},
     "output_type": "execute_result"
    },
    {
     "name": "stdout",
     "output_type": "stream",
     "text": [
      "time: 8.23 ms (started: 2021-09-02 10:26:53 +02:00)\n"
     ]
    }
   ],
   "source": [
    "df_test.pivot_table(columns=['MARQUE'], aggfunc='size')"
   ]
  },
  {
   "cell_type": "code",
   "execution_count": 19,
   "metadata": {},
   "outputs": [
    {
     "data": {
      "text/plain": [
       "0.03539111200482606"
      ]
     },
     "execution_count": 19,
     "metadata": {},
     "output_type": "execute_result"
    },
    {
     "name": "stdout",
     "output_type": "stream",
     "text": [
      "time: 4.66 ms (started: 2021-09-02 10:31:28 +02:00)\n"
     ]
    }
   ],
   "source": [
    "df_test[\"MARQUE\"].nunique()/df_test.shape[0]"
   ]
  },
  {
   "cell_type": "code",
   "execution_count": 24,
   "metadata": {},
   "outputs": [
    {
     "name": "stderr",
     "output_type": "stream",
     "text": [
      "/opt/anaconda3/lib/python3.8/site-packages/sklearn/cluster/_affinity_propagation.py:146: FutureWarning: 'random_state' has been introduced in 0.23. It will be set to None starting from 0.25 which means that results will differ at every function call. Set 'random_state' to None to silence this warning, or to 0 to keep the behavior of versions <0.23.\n",
      "  warnings.warn((\"'random_state' has been introduced in 0.23. \"\n"
     ]
    },
    {
     "name": "stdout",
     "output_type": "stream",
     "text": [
      "[('ABARTH', 'JAGUAR'), ('ABARTH', 'JAGUAR'), ('ABARTH', 'JAGUAR'), ('ABARTH', 'JAGUAR'), ('ABARTH', 'JAGUAR'), ('ABG', 'JAGUAR'), ('BACHERT', 'JAGUAR'), ('BARTHAU', 'JAGUAR'), ('BARTHAU', 'JAGUAR'), ('BARTHAU', 'JAGUAR'), ('BARTHAU', 'JAGUAR'), ('BARTHAU', 'JAGUAR'), ('BARTHAU', 'JAGUAR'), ('BARTHAU', 'JAGUAR'), ('BARTHAU', 'JAGUAR'), ('BERKHOF', 'JAGUAR'), ('CARTHAGO', 'JAGUAR'), ('LAMBORGHIN', 'JAGUAR'), ('RHM', 'JAGUAR'), ('TABBERT', 'JAGUAR'), ('TABBERT', 'JAGUAR'), ('TABBERT', 'JAGUAR'), ('TABBERT', 'JAGUAR'), ('TABBERT', 'JAGUAR'), ('ADRIA', 'AUDI'), ('AGRIA', 'AUDI'), ('APRILIA', 'AUDI'), ('CADILLAC', 'AUDI'), ('CADILLAC', 'AUDI'), ('CADILLAC', 'AUDI'), ('CADILLAC', 'AUDI'), ('CADILLAC', 'AUDI'), ('CADILLAC', 'AUDI'), ('CADILLAC', 'AUDI'), ('CADILLAC', 'AUDI'), ('CADILLAC', 'AUDI'), ('CARRARO', 'AUDI'), ('CARRARO', 'AUDI'), ('CATERPILLA', 'AUDI'), ('CATERPILLA', 'AUDI'), ('DAIHATSU', 'AUDI'), ('DAIHATSU', 'AUDI'), ('DAIHATSU', 'AUDI'), ('DAIHATSU', 'AUDI'), ('DAIHATSU', 'AUDI'), ('DAIHATSU', 'AUDI'), ('DAIHATSU', 'AUDI'), ('DERBI', 'AUDI'), ('LADA', 'AUDI'), ('LADA', 'AUDI'), ('LADA', 'AUDI'), ('ARTISANAL', 'RENAULT'), ('ARTISANAL', 'RENAULT'), ('ARTISANAL', 'RENAULT'), ('ARTISANAL', 'RENAULT'), ('ARTISANAL', 'RENAULT'), ('ARTISANAL', 'RENAULT'), ('ARTISANALE', 'RENAULT'), ('ARTISANALE', 'RENAULT'), ('AUSTIN', 'RENAULT'), ('AUSTIN', 'RENAULT'), ('AUSTIN', 'RENAULT'), ('AUSTIN', 'RENAULT'), ('TANKLUX', 'RENAULT'), ('TPV (SLO)', 'RENAULT'), ('TPV (SLO)', 'RENAULT'), ('AMC', 'FIAT'), ('ATM', 'FIAT'), ('ATM', 'FIAT'), ('ATM', 'FIAT'), ('HAMM', 'FIAT'), ('HAMM', 'FIAT'), ('KTM', 'FIAT'), ('MG', 'FIAT'), ('MG', 'FIAT'), ('MG', 'FIAT'), ('MG', 'FIAT'), ('SAME', 'FIAT'), ('TCM', 'FIAT'), ('ACKERMANN', 'O & K'), ('ACKERMANN-', 'O & K'), ('BOCKMANN', 'O & K'), ('BOECKMANN', 'O & K'), ('O & K', 'O & K'), ('O & K', 'O & K'), ('O & K', 'O & K'), ('VOCA', 'O & K'), ('BIMOTA', 'TOYOTA'), ('BOBCAT', 'TOYOTA'), ('BOMAG', 'TOYOTA'), ('BOMAG', 'TOYOTA'), ('BOMAG', 'TOYOTA'), ('BOVA', 'TOYOTA'), ('KUBOTA', 'TOYOTA'), ('KUBOTA', 'TOYOTA'), ('KUBOTA', 'TOYOTA'), ('KUBOTA', 'TOYOTA'), ('OVA', 'TOYOTA'), ('AUWAERTER', 'ROBUSTE KA'), ('BENELLI', 'ROBUSTE KA'), ('BENTLEY', 'ROBUSTE KA'), ('BENTLEY', 'ROBUSTE KA'), ('BENTLEY', 'ROBUSTE KA'), ('BRANTNER', 'ROBUSTE KA'), ('BUELL', 'ROBUSTE KA'), ('BUERSTNER', 'ROBUSTE KA'), ('BUERSTNER', 'ROBUSTE KA'), ('BURSTNER', 'ROBUSTE KA'), ('BURSTNER', 'ROBUSTE KA'), ('CUISINE RO', 'ROBUSTE KA'), ('MUENSTERLA', 'ROBUSTE KA'), ('OBERMAIER', 'ROBUSTE KA'), ('ROBUSTE KA', 'ROBUSTE KA'), ('ROBUSTE KA', 'ROBUSTE KA'), ('ROBUSTE KA', 'ROBUSTE KA'), ('ROBUSTE KA', 'ROBUSTE KA'), ('ROBUSTE KA', 'ROBUSTE KA'), ('B-W', 'BMW'), ('B.C.W.', 'BMW'), ('BCW', 'BMW'), ('BW', 'BMW'), ('BW', 'BMW'), ('AEBI', 'CLAAS'), ('CAISSE GEO', 'CLAAS'), ('CASE', 'CLAAS'), ('CASE IH', 'CLAAS'), ('CASE-IH', 'CLAAS'), ('CASE-IH', 'CLAAS'), ('CASE-IH', 'CLAAS'), ('CASE-IH', 'CLAAS'), ('CASE-IH', 'CLAAS'), ('CASE-IH', 'CLAAS'), ('CASE-IH', 'CLAAS'), ('CASE-IH', 'CLAAS'), ('CASE-IH', 'CLAAS'), ('CASE-IH', 'CLAAS'), ('CFMOTO', 'COSTO'), ('COSTO', 'COSTO'), ('COSTO', 'COSTO'), ('COSTO', 'COSTO'), ('COSTO', 'COSTO'), ('COSTO', 'COSTO'), ('COSTO', 'COSTO'), ('MOL', 'COSTO'), ('MOTO GUZZI', 'COSTO'), ('MOTO GUZZI', 'COSTO'), ('Capron', 'salmson'), ('Citroen', 'salmson'), ('salmson', 'salmson'), ('DAEWOO', 'DIVERS'), ('DAEWOO', 'DIVERS'), ('DAEWOO', 'DIVERS'), ('DAEWOO', 'DIVERS'), ('DAIMLER', 'DIVERS'), ('DAIMLER BE', 'DIVERS'), ('DAIMLER-CH', 'DIVERS'), ('DIVERS', 'DIVERS'), ('DIVERS', 'DIVERS'), ('DIVERS', 'DIVERS'), ('DIVERS', 'DIVERS'), ('DIVERS', 'DIVERS'), ('DIVERS', 'DIVERS'), ('DIVERS', 'DIVERS'), ('GILERA', 'DIVERS'), ('MERLO', 'DIVERS'), ('MERLO', 'DIVERS'), ('OLDSMOBILE', 'DIVERS'), ('OLDSMOBILE', 'DIVERS'), ('DEUTZ FAHR', 'DEUTZ'), ('DEUTZ FAHR', 'DEUTZ'), ('RICE FARME', 'DEUTZ'), ('SAME-DEUTZ', 'DEUTZ'), ('ZIEBUHR', 'DEUTZ'), ('BEDFORD', 'FORD'), ('CONCORDE', 'FORD'), ('CONCORDE', 'FORD'), ('DODGE', 'FORD'), ('DODGE', 'FORD'), ('DODGE', 'FORD'), ('DODGE', 'FORD'), ('DODGE', 'FORD'), ('FORDSON', 'FORD'), ('F MERSCH', 'FRUEHAUF'), ('FRANC', 'FRUEHAUF'), ('FRANKIA', 'FRUEHAUF'), ('FRUEHAUF', 'FRUEHAUF'), ('FRUEHAUF', 'FRUEHAUF'), ('UFAC', 'FRUEHAUF'), ('DETHLEFFS', 'LEHNEN'), ('GEHLEN', 'LEHNEN'), ('GEHLMAX', 'LEHNEN'), ('GEHLMAX', 'LEHNEN'), ('GOLDONI', 'LEHNEN'), ('LEHNEN', 'LEHNEN'), ('LEHNEN', 'LEHNEN'), ('LEHNEN', 'LEHNEN'), ('LEHNEN', 'LEHNEN'), ('LEHNEN', 'LEHNEN'), ('SCHLIESING', 'LEHNEN'), ('SCHLIESING', 'LEHNEN'), ('ESSLINGEN', 'WEIDEMANN'), ('HEINEMANN', 'WEIDEMANN'), ('HEINEMANN', 'WEIDEMANN'), ('HEINEMANN', 'WEIDEMANN'), ('HERMANN LA', 'WEIDEMANN'), ('RHEIN', 'WEIDEMANN'), ('THRUN-EIKE', 'WEIDEMANN'), ('WEIDEMANN', 'WEIDEMANN'), ('WEIDEMANN', 'WEIDEMANN'), ('WEIDEMANN', 'WEIDEMANN'), ('WEIDEMANN', 'WEIDEMANN'), ('WEIDEMANN', 'WEIDEMANN'), ('WEIDEMANN', 'WEIDEMANN'), ('WEIDEMANN', 'WEIDEMANN'), ('HALL', 'SKODA'), ('HANOMAG', 'SKODA'), ('HANOMAG', 'SKODA'), ('HOBBY', 'SKODA'), ('HOBBY', 'SKODA'), ('HOBBY', 'SKODA'), ('HOBBY', 'SKODA'), ('HOBBY', 'SKODA'), ('HOBBY', 'SKODA'), ('JOHN', 'SKODA'), ('SCHORNDORF', 'SKODA'), ('DEMICO', 'IVECO'), ('DIECI', 'IVECO'), ('DIECI', 'IVECO'), ('IVECO MAGI', 'IVECO'), ('DE REU', 'JEEP'), ('DE REU', 'JEEP'), ('J DEERE', 'JEEP'), ('VAN WEEGHE', 'JEEP'), ('VAN WEEGHE', 'JEEP'), ('VAN WEEGHE', 'JEEP'), ('VAN WEEGHE', 'JEEP'), ('VAN WEEGHE', 'JEEP'), ('AD-HOC', 'DS'), ('DS', 'DS'), ('DS', 'DS'), ('DS', 'DS'), ('DS', 'DS'), ('DS', 'DS'), ('DS', 'DS'), ('DS', 'DS'), ('DS', 'DS'), ('DS', 'DS'), ('JCB', 'DS'), ('JCB', 'DS'), ('JCB', 'DS'), ('JCB', 'DS'), ('JCB', 'DS'), ('JCB', 'DS'), ('JCB', 'DS'), ('JCB', 'DS'), ('JDC', 'DS'), ('ALVIS', 'KRAMER'), ('FISHER', 'KRAMER'), ('KAISER', 'KRAMER'), ('KAYSER', 'KRAMER'), ('KLAGIE', 'KRAMER'), ('KLAGIE', 'KRAMER'), ('KLAGIE', 'KRAMER'), ('KLAGIE', 'KRAMER'), ('KLAGIE', 'KRAMER'), ('KNAUS', 'KRAMER'), ('KNAUS', 'KRAMER'), ('KNAUS', 'KRAMER'), ('KOTSCHENRE', 'KRAMER'), ('KRAMER', 'KRAMER'), ('KRAMER', 'KRAMER'), ('KRAMER', 'KRAMER'), ('KRAMER', 'KRAMER'), ('KRAMER', 'KRAMER'), ('KRIEGER', 'KRAMER'), ('MAGIRUS DE', 'KRAMER'), ('MAGIRUS DE', 'KRAMER'), ('MAGIRUS DE', 'KRAMER'), ('ALLGAIER', 'LANCIA'), ('LANCIER', 'LANCIA'), ('LANDINI', 'LANCIA'), ('LANGENDORF', 'LANCIA'), ('NIEPER', 'LANCIA'), ('NIEPER', 'LANCIA'), ('PANTHER', 'LANCIA'), ('DAVID BROW', 'ALFA ROMEO'), ('DAVID BROW', 'ALFA ROMEO'), ('DAVID BROW', 'ALFA ROMEO'), ('DAVID BROW', 'ALFA ROMEO'), ('DAVID BROW', 'ALFA ROMEO'), ('DAVID BROW', 'ALFA ROMEO'), ('LAND-ROVER', 'ALFA ROMEO'), ('LAND-ROVER', 'ALFA ROMEO'), ('LAND-ROVER', 'ALFA ROMEO'), ('LAND-ROVER', 'ALFA ROMEO'), ('LAND-ROVER', 'ALFA ROMEO'), ('LAND-ROVER', 'ALFA ROMEO'), ('LAND-ROVER', 'ALFA ROMEO'), ('LAND-ROVER', 'ALFA ROMEO'), ('LANDROVER', 'ALFA ROMEO'), ('PLAQUE ROU', 'ALFA ROMEO'), ('LAG', 'LAG'), ('LAG', 'LAG'), ('LAG', 'LAG'), ('LAG', 'LAG'), ('LAG', 'LAG'), ('LAG', 'LAG'), ('LAG', 'LAG'), ('LAG', 'LAG'), ('LANZ', 'LAG'), ('LANZ', 'LAG'), ('LEYLAND', 'LAG'), ('LNF', 'LAG'), ('LNF', 'LAG'), ('WANTZ', 'LAG'), ('BRENDERUP', 'HOLDER'), ('COLLIGNON', 'HOLDER'), ('FELDBINDER', 'HOLDER'), ('FELDBINDER', 'HOLDER'), ('GULDNER', 'HOLDER'), ('GULDNER', 'HOLDER'), ('HOLDER', 'HOLDER'), ('HOLDER', 'HOLDER'), ('HOLDER', 'HOLDER'), ('HOLDER', 'HOLDER'), ('HOLDER', 'HOLDER'), ('HOLDER', 'HOLDER'), ('HOLDER', 'HOLDER'), ('INFINITI', 'HOLDER'), ('INFINITI', 'HOLDER'), ('KINNEN', 'HOLDER'), ('LINDNER', 'HOLDER'), ('MIDDENDORF', 'HOLDER'), ('EVO-BUS', 'MITSUBISHI'), ('EVO-BUS', 'MITSUBISHI'), ('EVO-BUS', 'MITSUBISHI'), ('EVO-BUS', 'MITSUBISHI'), ('EVO-BUS', 'MITSUBISHI'), ('EVO-BUS', 'MITSUBISHI'), ('EVO-BUS', 'MITSUBISHI'), ('EVO-BUS', 'MITSUBISHI'), ('EVO-BUS', 'MITSUBISHI'), ('LAMOTTE', 'MITSUBISHI'), ('LOTUS', 'MITSUBISHI'), ('LOTUS', 'MITSUBISHI'), ('LOTUS', 'MITSUBISHI'), ('LOTUS', 'MITSUBISHI'), ('LOTUS', 'MITSUBISHI'), ('MC-LOUIS', 'MITSUBISHI'), ('PLYMOUTH', 'MITSUBISHI'), ('WELTBUMMLE', 'MITSUBISHI'), ('BMW-ALPINA', 'MINI'), ('BMW-ALPINA', 'MINI'), ('MANITOU', 'MINI'), ('MANITOU', 'MINI'), ('MANITOU', 'MINI'), ('MANITOU', 'MINI'), ('MANITOU', 'MINI'), ('MANITOU', 'MINI'), ('MANITOU', 'MINI'), ('MANITOU', 'MINI'), ('MANITOU', 'MINI'), ('MORGAN', 'MINI'), ('MORGAN', 'MINI'), ('MORGAN', 'MINI'), ('VW - MAN', 'MINI'), ('ACESS', 'MASSEY FER'), ('ANSSEMS', 'MASSEY FER'), ('ANSSEMS', 'MASSEY FER'), ('ANSSEMS', 'MASSEY FER'), ('ANSSEMS', 'MASSEY FER'), ('ANSSEMS', 'MASSEY FER'), ('MASSAY', 'MASSEY FER'), ('MASSEY', 'MASSEY FER'), ('MASSEY', 'MASSEY FER'), ('MASSEY-FER', 'MASSEY FER'), ('MASSEY-FER', 'MASSEY FER'), ('MASSEY-FER', 'MASSEY FER'), ('MASSEY-FER', 'MASSEY FER'), ('CLAAS SCOR', 'MC CORMICK'), ('INT MC COR', 'MC CORMICK'), ('MC CORNICK', 'MC CORMICK'), ('CARBODIES', 'VOLKSWAGEN'), ('CLAYSON', 'VOLKSWAGEN'), ('FARESIN', 'VOLKSWAGEN'), ('FMC BOLENS', 'VOLKSWAGEN'), ('LORENTZ ET', 'VOLKSWAGEN'), ('MCLAREN', 'VOLKSWAGEN'), ('MECALAC', 'VOLKSWAGEN'), ('MECALAC', 'VOLKSWAGEN'), ('MECALAC', 'VOLKSWAGEN'), ('MECALAC', 'VOLKSWAGEN'), ('MECALAC', 'VOLKSWAGEN'), ('MECANOREM', 'VOLKSWAGEN'), ('MICALAC', 'VOLKSWAGEN'), ('MICALAC', 'VOLKSWAGEN'), ('MERCEDES R', 'MERCEDES-B'), ('MERCURY', 'MERCEDES-B'), ('HOLSCLAW', 'NEW HOLLAN'), ('NEOPLAN', 'NEW HOLLAN'), ('NEOPLAN', 'NEW HOLLAN'), ('VAN HOOL', 'NEW HOLLAN'), ('VAN HOOL', 'NEW HOLLAN'), ('VAN HOOL', 'NEW HOLLAN'), ('VAN HOOL', 'NEW HOLLAN'), ('VAN HOOL', 'NEW HOLLAN'), ('VAN HOOL', 'NEW HOLLAN'), ('WOLFANGEL', 'NEW HOLLAN'), ('GIANT', 'NISSAN'), ('GIANT', 'NISSAN'), ('GIANT', 'NISSAN'), ('NIESMANN-B', 'NISSAN'), ('NISSAN-DAT', 'NISSAN'), ('NISSEN', 'NISSAN'), ('SSANGYONG', 'NISSAN'), ('SSANGYONG', 'NISSAN'), ('SSANGYONG', 'NISSAN'), ('SSANGYONG', 'NISSAN'), ('SSANGYONG', 'NISSAN'), ('SSANGYONG', 'NISSAN'), ('SSANGYONG', 'NISSAN'), ('SSANGYONG', 'NISSAN'), ('SSANGYONG', 'NISSAN'), ('AGCO', 'AGCO'), ('AGCO', 'AGCO'), ('AGCO', 'AGCO'), ('AGCO', 'AGCO'), ('AGCO', 'AGCO'), ('AGCO', 'AGCO'), ('HAKO', 'AGCO'), ('MACK', 'AGCO'), ('MACK', 'AGCO'), ('MACK', 'AGCO'), ('PACKO', 'AGCO'), ('PONTIAC', 'AGCO'), ('PONTIAC', 'AGCO'), ('PONTIAC', 'AGCO'), ('PUCH', 'AGCO'), ('TACK', 'AGCO'), ('TACK', 'AGCO'), ('WARSCO', 'AGCO'), ('HEKU', 'OPEL'), ('ISEKI', 'OPEL'), ('ISEKI', 'OPEL'), ('PEKAWEE', 'OPEL'), ('PEKAWEE', 'OPEL'), ('PEKI', 'OPEL'), ('PENNING', 'OPEL'), ('PETER KIRS', 'OPEL'), ('PPEM', 'OPEL'), ('PGH-MGI', 'PEUGEOT'), ('PIAGGIO', 'PEUGEOT'), ('PIAGGIO', 'PEUGEOT'), ('PIAGGIO', 'PEUGEOT'), ('PIAGGIO', 'PEUGEOT'), ('PIAGGIO', 'PEUGEOT'), ('PIAGGIO-GI', 'PEUGEOT'), ('Deutz', 'Deutz'), ('Deutz', 'Deutz'), ('Mercedes', 'Deutz'), ('Peugeot', 'Deutz'), ('Toyota', 'Deutz'), ('GRILLO', 'HARLEY DAV'), ('HARLEY DAV', 'HARLEY DAV'), ('HARLEY DAV', 'HARLEY DAV'), ('HARLEY DAV', 'HARLEY DAV'), ('HARLEY DAV', 'HARLEY DAV'), ('HARLEY DAV', 'HARLEY DAV'), ('IFOR WILLI', 'HARLEY DAV'), ('RILEY', 'HARLEY DAV'), ('RILLEY', 'HARLEY DAV'), ('STILL', 'HARLEY DAV'), ('GREGORY', 'CHEVROLET'), ('GROENEWEGE', 'CHEVROLET'), ('GROENEWEGE', 'CHEVROLET'), ('GROVE', 'CHEVROLET'), ('GROVE', 'CHEVROLET'), ('KRONE', 'CHEVROLET'), ('KRONE', 'CHEVROLET'), ('KRONE', 'CHEVROLET'), ('KRONE', 'CHEVROLET'), ('KRONE', 'CHEVROLET'), ('KRONE', 'CHEVROLET'), ('OLIVIER', 'CHEVROLET'), ('RODGERS', 'CHEVROLET'), ('ROEMEN', 'CHEVROLET'), ('ROHO-WERKE', 'CHEVROLET'), ('ROYAL ENFI', 'CHEVROLET'), ('DUCATI', 'SAAB'), ('DUCATI', 'SAAB'), ('KAWASAKI', 'SAAB'), ('KAWASAKI', 'SAAB'), ('KAWASAKI', 'SAAB'), ('KAWASAKI', 'SAAB'), ('KAWASAKI', 'SAAB'), ('KAWASAKI', 'SAAB'), ('SCANIA', 'SAAB'), ('UNI', 'SAAB'), ('HENSCHEL', 'PORSCHE'), ('HENSCHEL', 'PORSCHE'), ('HENSCHEL', 'PORSCHE'), ('HENSCHEL', 'PORSCHE'), ('SCHAEFF', 'PORSCHE'), ('SCHAEFF', 'PORSCHE'), ('SCHAEFFER', 'PORSCHE'), ('SCHAEFFER', 'PORSCHE'), ('SCHAEFFER', 'PORSCHE'), ('SCHAEFFER', 'PORSCHE'), ('SCHARZMULL', 'PORSCHE'), ('ASTRAL', 'SEAT'), ('CONSTRUCTA', 'SEAT'), ('CUPRA', 'SEAT'), ('ERIBA', 'SEAT'), ('HENRA', 'SEAT'), ('HENRA', 'SEAT'), ('MASERATI', 'SEAT'), ('MASERATI', 'SEAT'), ('MASERATI', 'SEAT'), ('MASERATI', 'SEAT'), ('MASERATI', 'SEAT'), ('MASERATI', 'SEAT'), ('MASERATI', 'SEAT'), ('MASERATI', 'SEAT'), ('MASERATI', 'SEAT'), ('MASERATI', 'SEAT'), ('SAFETY', 'SEAT'), ('SETRA', 'SEAT'), ('SETRA', 'SEAT'), ('SETRA / St', 'SEAT'), ('SONBEAM', 'SEAT'), ('SYSTRA', 'SEAT'), ('TRAX', 'SEAT'), ('ASTON-MART', 'SUBARU'), ('ASTON-MART', 'SUBARU'), ('ASTON-MART', 'SUBARU'), ('ASTON-MART', 'SUBARU'), ('ASTON-MART', 'SUBARU'), ('ASTON-MART', 'SUBARU'), ('ASTON-MART', 'SUBARU'), ('HAPERT', 'SUBARU'), ('HAPERT', 'SUBARU'), ('HUMBAUR', 'SUBARU'), ('KOMATSU', 'SUBARU'), ('KOMATSU', 'SUBARU'), ('KOMATSU', 'SUBARU'), ('KOMATSU', 'SUBARU'), ('KOMATSU', 'SUBARU'), ('MARQUARDT', 'SUBARU'), ('SAMRO', 'SUBARU'), ('SCHMITZ', 'SUBARU'), ('SCHMITZ', 'SUBARU'), ('SCHMITZ', 'SUBARU'), ('SYM', 'SUBARU'), ('SYM', 'SUBARU'), ('SYM', 'SUBARU'), ('SYM', 'SUBARU'), ('HYMER', 'HYMER'), ('HYMER', 'HYMER'), ('HYMER', 'HYMER'), ('HYMER', 'HYMER'), ('HYMER', 'HYMER'), ('HYMER', 'HYMER'), ('HYMER', 'HYMER'), ('HYMER', 'HYMER'), ('HYMER', 'HYMER'), ('HYMER', 'HYMER'), ('SATELLITE', 'HYMER'), ('STEYER', 'HYMER'), ('STEYR', 'HYMER'), ('STEYR', 'HYMER'), ('STEYR', 'HYMER'), ('STEYR', 'HYMER'), ('STEYR', 'HYMER'), ('STEYR', 'HYMER'), ('STEYR', 'HYMER'), ('STUDEBAKER', 'HYMER'), ('TREBBINER', 'HYMER'), ('WM MEYER', 'HYMER'), ('WM MEYER', 'HYMER'), ('ZETTELMEYE', 'HYMER'), ('ZETTELMEYE', 'HYMER'), ('ZETTELMEYE', 'HYMER'), ('ZETTELMEYE', 'HYMER'), ('ISUZU', 'SUZUKI'), ('ISUZU', 'SUZUKI'), ('ISUZU', 'SUZUKI'), ('ISUZU', 'SUZUKI'), ('ISUZU', 'SUZUKI'), ('ISUZU', 'SUZUKI'), ('DE TOMASO', 'TESLA'), ('FICHTEL SA', 'TESLA'), ('STEMA', 'TESLA'), ('STEMA', 'TESLA'), ('STEMA', 'TESLA'), ('STEMA', 'TESLA'), ('TEMSA', 'TESLA'), ('TESLA', 'TESLA'), ('TESLA', 'TESLA'), ('TESLA', 'TESLA'), ('TESLA', 'TESLA'), ('TESLA', 'TESLA'), ('TESLA', 'TESLA'), ('BRIMOS', 'CITROEN'), ('BRIMOS', 'CITROEN'), ('BRIMOS', 'CITROEN'), ('INTERNATIO', 'CITROEN'), ('INTERNATIO', 'CITROEN'), ('INTERNATIO', 'CITROEN'), ('INTERNATIO', 'CITROEN'), ('INTERNATIO', 'CITROEN'), ('INTERNATIO', 'CITROEN'), ('INTERNATIO', 'CITROEN'), ('REPETTO', 'CITROEN'), ('TRAILOR', 'CITROEN'), ('TRAILOR', 'CITROEN'), ('TRAILOR', 'CITROEN'), ('TRAILOR', 'CITROEN'), ('TRAILOR', 'CITROEN'), ('TRAILOR', 'CITROEN'), ('TRITON', 'CITROEN'), ('TRIUMPH', 'CITROEN'), ('TRIUMPH', 'CITROEN'), ('TRIUMPH', 'CITROEN'), ('TRIUMPH', 'CITROEN'), ('TRIUMPH', 'CITROEN'), ('ALLRAD', 'VALTRA'), ('MATRA', 'VALTRA'), ('MV AGUSTA', 'VALTRA'), ('VALMET', 'VALTRA'), ('VALMET', 'VALTRA'), ('VALMET', 'VALTRA'), ('VALTRA', 'VALTRA'), ('VALTRA', 'VALTRA'), ('VALTRA', 'VALTRA'), ('VALTRA', 'VALTRA'), ('VALTRA', 'VALTRA'), ('VALTRA', 'VALTRA'), ('VALTRA', 'VALTRA'), ('WALT', 'VALTRA'), ('WALT', 'VALTRA'), ('WALT', 'VALTRA'), ('EICHER', 'EICHER'), ('EICHER', 'EICHER'), ('EICHER', 'EICHER'), ('EICHER', 'EICHER'), ('EICHER', 'EICHER'), ('EQUIPE', 'EICHER'), ('EQUIPE', 'EICHER'), ('WARNEKE', 'EICHER'), ('WEBER NIC', 'EICHER'), ('WEIJER', 'EICHER'), ('WEINSBERG', 'EICHER'), ('WEIRO', 'EICHER'), ('WILK STERN', 'EICHER'), ('BUICK', 'BUICK'), ('BUICK', 'BUICK'), ('BUICK', 'BUICK'), ('IHC', 'BUICK'), ('WICK', 'BUICK'), ('WILLYS', 'WILLYS JEE'), ('WILLYS FOR', 'WILLYS JEE'), ('WILLYS JEE', 'WILLYS JEE'), ('Porsche', 'Trailor'), ('Trailor', 'Trailor'), ('Trailor', 'Trailor'), ('fendt', 'Trailor'), ('rosengart', 'Trailor')]\n",
      "time: 1.86 s (started: 2021-09-02 10:33:39 +02:00)\n"
     ]
    }
   ],
   "source": [
    "idx, suggestion = typo.index_uncorrect_grammar_suggestion(data_test.data[col_name], 1)\n",
    "#print(data.data['state'].iloc[idx], suggestion)\n",
    "print(list(zip(df_test[col_name].iloc[idx], suggestion)))"
   ]
  },
  {
   "cell_type": "code",
   "execution_count": null,
   "metadata": {},
   "outputs": [],
   "source": [
    "idx_test, suggestion_test = typo.index_uncorrect_grammar_suggestion(df_test[col_name], 1) #testing algo\n",
    "print(list(zip(df_test[col_name].iloc[idx_test], suggestion_test)))"
   ]
  },
  {
   "cell_type": "code",
   "execution_count": 28,
   "metadata": {},
   "outputs": [
    {
     "name": "stderr",
     "output_type": "stream",
     "text": [
      "/opt/anaconda3/lib/python3.8/site-packages/sklearn/cluster/_affinity_propagation.py:146: FutureWarning: 'random_state' has been introduced in 0.23. It will be set to None starting from 0.25 which means that results will differ at every function call. Set 'random_state' to None to silence this warning, or to 0 to keep the behavior of versions <0.23.\n",
      "  warnings.warn((\"'random_state' has been introduced in 0.23. \"\n"
     ]
    },
    {
     "name": "stdout",
     "output_type": "stream",
     "text": [
      "[('AlFbama', 'Alabama'), ('AlaTama', 'Alabama'), ('ArizoJa', 'Arizona'), ('Puerto Rico', 'Arizona'), ('Puerto Rico', 'Arizona'), ('Puerto Rico', 'Arizona'), ('Puerto Rico', 'Arizona'), ('Puerto Rico', 'Arizona'), ('Puerto Rico', 'Arizona'), ('Puerto Rico', 'Arizona'), ('Puerto Rico', 'Arizona'), ('Coworado', 'Colorado'), ('Daryland', 'Maryland'), ('Dzlaware', 'Delaware'), ('FlTrida', 'Florida'), ('Flhrida', 'Florida'), ('Flofida', 'Florida'), ('Florica', 'Florida'), ('Florima', 'Florida'), ('Flqrida', 'Florida'), ('Fsorida', 'Florida'), ('Fuorida', 'Florida'), ('ilorida', 'Florida'), ('vlorida', 'Florida'), ('IllinUis', 'Illinois'), ('IllinoNs', 'Illinois'), ('IllinoiS', 'Illinois'), ('Maiqe', 'Minnesota'), ('qaine', 'Minnesota'), ('MPssissippi', 'Mississippi'), ('MissVssippi', 'Mississippi'), ('MississiRpi', 'Mississippi'), ('MississipQi', 'Mississippi'), ('Mississispi', 'Mississippi'), ('mevada', 'Pennsylvania'), ('NewFYork', 'New Jersey'), ('Nohth Carolina', 'North Carolina'), ('Norph Carolina', 'North Carolina'), ('North CaroliSa', 'North Carolina'), ('Sjuth Carolina', 'North Carolina'), ('South Carolcna', 'North Carolina'), ('OhPo', 'Ohio'), ('Ohro', 'Ohio'), ('Tepnessee', 'Tennessee'), ('Eexas', 'Texas'), ('TXxas', 'Texas'), ('TexPs', 'Texas'), ('TexaD', 'Texas'), ('Tvxas', 'Texas'), ('Xexas', 'Texas'), ('Zexas', 'Texas'), ('Unspetified', 'Connecticut'), ('VirgRnia', 'Virginia'), ('VirgiRia', 'Virginia'), ('Virqinia', 'Virginia'), ('West VArginia', 'Virginia'), ('WashingtoH', 'Washington'), ('Washington DC', 'Washington'), ('Washington DC', 'Washington'), ('WisKonsin', 'Wisconsin')]\n",
      "time: 1.23 s (started: 2021-09-02 10:38:53 +02:00)\n"
     ]
    }
   ],
   "source": [
    "col_name_2= \"state\"\n",
    "idx_train, suggestion_train = typo.index_uncorrect_grammar_suggestion(df_train[col_name_2], 1) #testing algo\n",
    "print(list(zip(df_train[col_name_2].iloc[idx_train], suggestion_train)))"
   ]
  },
  {
   "cell_type": "code",
   "execution_count": null,
   "metadata": {},
   "outputs": [],
   "source": []
  }
 ],
 "metadata": {
  "kernelspec": {
   "display_name": "Python 3",
   "language": "python",
   "name": "python3"
  },
  "language_info": {
   "codemirror_mode": {
    "name": "ipython",
    "version": 3
   },
   "file_extension": ".py",
   "mimetype": "text/x-python",
   "name": "python",
   "nbconvert_exporter": "python",
   "pygments_lexer": "ipython3",
   "version": "3.8.5"
  }
 },
 "nbformat": 4,
 "nbformat_minor": 4
}
