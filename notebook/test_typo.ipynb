{
 "cells": [
  {
   "cell_type": "code",
   "execution_count": null,
   "metadata": {},
   "outputs": [],
   "source": [
    "from IPython.core.display import display, HTML\n",
    "display(HTML(\"<style>.container { width:100% !important; }</style>\"))\n",
    "%load_ext autotime\n",
    "import os\n",
    "import sys\n",
    "sys.path.insert(0, os.path.abspath('../src/'))\n",
    "import utils\n",
    "import improve_data_quality\n",
    "import pandas as pd\n",
    "import numpy as np\n",
    "import matplotlib.pyplot as plt\n",
    "import typo\n",
    "import function_typo\n",
    "pd.set_option(\"display.max_rows\", 10, \"display.max_columns\", None) #show 10 rows and 5 columns"
   ]
  },
  {
   "cell_type": "code",
   "execution_count": null,
   "metadata": {},
   "outputs": [],
   "source": [
    "train_data_path = \"../data/data.csv\"\n",
    "test_data_path = \"../data/test.csv\"\n",
    "df = utils._to_DataFrame(test_data_path)\n",
    "#df_test = utils._to_DataFrame(test_data)\n",
    "#meta_data = utils.get_metadata(df)\n"
   ]
  },
  {
   "cell_type": "code",
   "execution_count": null,
   "metadata": {},
   "outputs": [],
   "source": [
    "from improve_data_quality import Data \n",
    "data_train = Data(train_data_path)\n",
    "data_test = Data(test_data_path)\n"
   ]
  },
  {
   "cell_type": "code",
   "execution_count": null,
   "metadata": {},
   "outputs": [],
   "source": [
    "df_train = data_train.data\n",
    "df_test = data_test.data\n",
    "df_test"
   ]
  },
  {
   "cell_type": "code",
   "execution_count": null,
   "metadata": {},
   "outputs": [],
   "source": [
    "col_name=\"MARQUE\""
   ]
  },
  {
   "cell_type": "code",
   "execution_count": null,
   "metadata": {},
   "outputs": [],
   "source": [
    "df_test.pivot_table(columns=['MARQUE'], aggfunc='size') #summery of duplication "
   ]
  },
  {
   "cell_type": "code",
   "execution_count": null,
   "metadata": {},
   "outputs": [],
   "source": [
    "df_test[\"MARQUE\"].nunique()/df_test.shape[0]"
   ]
  },
  {
   "cell_type": "code",
   "execution_count": null,
   "metadata": {},
   "outputs": [],
   "source": [
    "idx, suggestion = typo.index_uncorrect_grammar_suggestion(data_test.data[col_name], 1)\n",
    "#print(data.data['state'].iloc[idx], suggestion)\n",
    "print(list(zip(df_test[col_name].iloc[idx], suggestion)))"
   ]
  },
  {
   "cell_type": "code",
   "execution_count": null,
   "metadata": {},
   "outputs": [],
   "source": [
    "idx_test, suggestion_test = typo.index_uncorrect_grammar_suggestion(df_test[col_name], 1) #testing algo\n",
    "print(list(zip(df_test[col_name].iloc[idx_test], suggestion_test)))"
   ]
  },
  {
   "cell_type": "code",
   "execution_count": null,
   "metadata": {},
   "outputs": [],
   "source": [
    "col_name_2= \"state\"\n",
    "idx_train, suggestion_train = typo.index_uncorrect_grammar_suggestion(df_train[col_name_2], 1) #testing algo\n",
    "print(list(zip(df_train[col_name_2].iloc[idx_train], suggestion_train)))"
   ]
  },
  {
   "cell_type": "markdown",
   "metadata": {},
   "source": [
    "## test second metric MC"
   ]
  },
  {
   "cell_type": "code",
   "execution_count": null,
   "metadata": {},
   "outputs": [],
   "source": [
    "words, correct_words = function_typo.Typo_correction(df[\"MARQUE\"])\n",
    "words"
   ]
  }
 ],
 "metadata": {
  "kernelspec": {
   "display_name": "Python 3",
   "language": "python",
   "name": "python3"
  },
  "language_info": {
   "codemirror_mode": {
    "name": "ipython",
    "version": 3
   },
   "file_extension": ".py",
   "mimetype": "text/x-python",
   "name": "python",
   "nbconvert_exporter": "python",
   "pygments_lexer": "ipython3",
   "version": "3.8.5"
  }
 },
 "nbformat": 4,
 "nbformat_minor": 4
}
